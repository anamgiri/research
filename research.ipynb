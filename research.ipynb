{
 "cells": [
  {
   "cell_type": "code",
   "execution_count": 1,
   "id": "0666c17b-a5fc-4a84-adfd-b58ee495751f",
   "metadata": {},
   "outputs": [],
   "source": [
    "import matplotlib.pyplot as plt\n",
    "import pandas as pd\n",
    "import plotly.express as px\n",
    "import seaborn as sns\n",
    "import pytz\n",
    "from sklearn.metrics import mean_absolute_error\n",
    "from statsmodels.graphics.tsaplots import plot_acf, plot_pacf"
   ]
  },
  {
   "cell_type": "code",
   "execution_count": 2,
   "id": "35731185-a3f8-4db7-98da-9eded99f2b7e",
   "metadata": {},
   "outputs": [],
   "source": [
    "# Load the dataset\n",
    "file_path = \"kathmandu.csv\"  # Replace with your file path\n",
    "df = pd.read_csv(file_path)\n",
    "\n",
    "# Select only the necessary columns\n",
    "filtered_df = df[['utc', 'parameter', 'value', 'unit']]\n",
    "\n",
    "# Save the filtered dataset to a new CSV file\n",
    "filtered_file_path = \"filtered_dataset.csv\"  # Replace with your desired output path\n",
    "filtered_df.to_csv(filtered_file_path, index=False)"
   ]
  },
  {
   "cell_type": "code",
   "execution_count": 3,
   "id": "ab8a4d96-515a-4dc1-ac6c-ade9af17765d",
   "metadata": {},
   "outputs": [
    {
     "data": {
      "text/plain": [
       "(61976, 4)"
      ]
     },
     "execution_count": 3,
     "metadata": {},
     "output_type": "execute_result"
    }
   ],
   "source": [
    "filtered_df.shape"
   ]
  },
  {
   "cell_type": "code",
   "execution_count": 4,
   "id": "e53e3d50-1bab-45b5-a2c7-f52f40e48469",
   "metadata": {},
   "outputs": [
    {
     "data": {
      "text/html": [
       "<div>\n",
       "<style scoped>\n",
       "    .dataframe tbody tr th:only-of-type {\n",
       "        vertical-align: middle;\n",
       "    }\n",
       "\n",
       "    .dataframe tbody tr th {\n",
       "        vertical-align: top;\n",
       "    }\n",
       "\n",
       "    .dataframe thead th {\n",
       "        text-align: right;\n",
       "    }\n",
       "</style>\n",
       "<table border=\"1\" class=\"dataframe\">\n",
       "  <thead>\n",
       "    <tr style=\"text-align: right;\">\n",
       "      <th></th>\n",
       "      <th>locationId</th>\n",
       "      <th>location</th>\n",
       "      <th>city</th>\n",
       "      <th>country</th>\n",
       "      <th>utc</th>\n",
       "      <th>local</th>\n",
       "      <th>parameter</th>\n",
       "      <th>value</th>\n",
       "      <th>unit</th>\n",
       "      <th>latitude</th>\n",
       "      <th>longitude</th>\n",
       "    </tr>\n",
       "  </thead>\n",
       "  <tbody>\n",
       "    <tr>\n",
       "      <th>0</th>\n",
       "      <td>3460</td>\n",
       "      <td>US Diplomatic Post: Phora Durbar Kathmandu</td>\n",
       "      <td>Kathmandu</td>\n",
       "      <td>NP</td>\n",
       "      <td>2021-03-12T18:15:00+00:00</td>\n",
       "      <td>2021-03-13T00:00:00+05:45</td>\n",
       "      <td>o3</td>\n",
       "      <td>0.051</td>\n",
       "      <td>ppm</td>\n",
       "      <td>27.712463</td>\n",
       "      <td>85.315704</td>\n",
       "    </tr>\n",
       "    <tr>\n",
       "      <th>1</th>\n",
       "      <td>3460</td>\n",
       "      <td>US Diplomatic Post: Phora Durbar Kathmandu</td>\n",
       "      <td>Kathmandu</td>\n",
       "      <td>NP</td>\n",
       "      <td>2021-03-12T18:15:00+00:00</td>\n",
       "      <td>2021-03-13T00:00:00+05:45</td>\n",
       "      <td>pm25</td>\n",
       "      <td>69.000</td>\n",
       "      <td>µg/m³</td>\n",
       "      <td>27.712463</td>\n",
       "      <td>85.315704</td>\n",
       "    </tr>\n",
       "    <tr>\n",
       "      <th>2</th>\n",
       "      <td>3460</td>\n",
       "      <td>US Diplomatic Post: Phora Durbar Kathmandu</td>\n",
       "      <td>Kathmandu</td>\n",
       "      <td>NP</td>\n",
       "      <td>2021-03-12T17:15:00+00:00</td>\n",
       "      <td>2021-03-12T23:00:00+05:45</td>\n",
       "      <td>pm25</td>\n",
       "      <td>69.000</td>\n",
       "      <td>µg/m³</td>\n",
       "      <td>27.712463</td>\n",
       "      <td>85.315704</td>\n",
       "    </tr>\n",
       "    <tr>\n",
       "      <th>3</th>\n",
       "      <td>3460</td>\n",
       "      <td>US Diplomatic Post: Phora Durbar Kathmandu</td>\n",
       "      <td>Kathmandu</td>\n",
       "      <td>NP</td>\n",
       "      <td>2021-03-12T17:15:00+00:00</td>\n",
       "      <td>2021-03-12T23:00:00+05:45</td>\n",
       "      <td>o3</td>\n",
       "      <td>0.030</td>\n",
       "      <td>ppm</td>\n",
       "      <td>27.712463</td>\n",
       "      <td>85.315704</td>\n",
       "    </tr>\n",
       "    <tr>\n",
       "      <th>4</th>\n",
       "      <td>3460</td>\n",
       "      <td>US Diplomatic Post: Phora Durbar Kathmandu</td>\n",
       "      <td>Kathmandu</td>\n",
       "      <td>NP</td>\n",
       "      <td>2021-03-12T16:15:00+00:00</td>\n",
       "      <td>2021-03-12T22:00:00+05:45</td>\n",
       "      <td>o3</td>\n",
       "      <td>0.030</td>\n",
       "      <td>ppm</td>\n",
       "      <td>27.712463</td>\n",
       "      <td>85.315704</td>\n",
       "    </tr>\n",
       "  </tbody>\n",
       "</table>\n",
       "</div>"
      ],
      "text/plain": [
       "   locationId                                    location       city country  \\\n",
       "0        3460  US Diplomatic Post: Phora Durbar Kathmandu  Kathmandu      NP   \n",
       "1        3460  US Diplomatic Post: Phora Durbar Kathmandu  Kathmandu      NP   \n",
       "2        3460  US Diplomatic Post: Phora Durbar Kathmandu  Kathmandu      NP   \n",
       "3        3460  US Diplomatic Post: Phora Durbar Kathmandu  Kathmandu      NP   \n",
       "4        3460  US Diplomatic Post: Phora Durbar Kathmandu  Kathmandu      NP   \n",
       "\n",
       "                         utc                      local parameter   value  \\\n",
       "0  2021-03-12T18:15:00+00:00  2021-03-13T00:00:00+05:45        o3   0.051   \n",
       "1  2021-03-12T18:15:00+00:00  2021-03-13T00:00:00+05:45      pm25  69.000   \n",
       "2  2021-03-12T17:15:00+00:00  2021-03-12T23:00:00+05:45      pm25  69.000   \n",
       "3  2021-03-12T17:15:00+00:00  2021-03-12T23:00:00+05:45        o3   0.030   \n",
       "4  2021-03-12T16:15:00+00:00  2021-03-12T22:00:00+05:45        o3   0.030   \n",
       "\n",
       "    unit   latitude  longitude  \n",
       "0    ppm  27.712463  85.315704  \n",
       "1  µg/m³  27.712463  85.315704  \n",
       "2  µg/m³  27.712463  85.315704  \n",
       "3    ppm  27.712463  85.315704  \n",
       "4    ppm  27.712463  85.315704  "
      ]
     },
     "execution_count": 4,
     "metadata": {},
     "output_type": "execute_result"
    }
   ],
   "source": [
    "df.head()"
   ]
  },
  {
   "cell_type": "code",
   "execution_count": 5,
   "id": "38cb1ead-ff91-412d-8c19-61491e8923f1",
   "metadata": {},
   "outputs": [],
   "source": [
    "# Filter the DataFrame for rows where the parameter is 'pm25'\n",
    "pm25_df = filtered_df[filtered_df['parameter'] == 'pm25']\n",
    "\n",
    "# Save the filtered DataFrame to a new CSV file\n",
    "pm25_df.to_csv(\"pm25_dataset.csv\", index=False)\n",
    "\n"
   ]
  },
  {
   "cell_type": "code",
   "execution_count": 6,
   "id": "67ded3cd-4328-4f7d-9d3b-4893da070f58",
   "metadata": {},
   "outputs": [
    {
     "data": {
      "text/plain": [
       "(31832, 4)"
      ]
     },
     "execution_count": 6,
     "metadata": {},
     "output_type": "execute_result"
    }
   ],
   "source": [
    "pm25_df.shape"
   ]
  },
  {
   "cell_type": "code",
   "execution_count": 7,
   "id": "2a7151c7-8008-4f1c-a3b5-5dfd4f1ea273",
   "metadata": {},
   "outputs": [],
   "source": [
    "# Assuming pm25_df is your original DataFrame and 'value' is the column of interest\n",
    "Q1 = pm25_df['value'].quantile(0.25)\n",
    "Q3 = pm25_df['value'].quantile(0.75)\n",
    "IQR = Q3 - Q1\n",
    "\n",
    "# Define outlier thresholds\n",
    "lower_bound = Q1 - 1.5 * IQR\n",
    "upper_bound = Q3 + 1.5 * IQR\n",
    "\n",
    "# Remove rows where 'value' is outside the outlier bounds\n",
    "pm25_df_clean = pm25_df[(pm25_df['value'] >= lower_bound) & (pm25_df['value'] <= upper_bound)]\n",
    "\n",
    "# If you want to overwrite the original DataFrame and remove outliers in place:\n",
    "pm25_df = pm25_df[(pm25_df['value'] >= lower_bound) & (pm25_df['value'] <= upper_bound)]\n",
    "\n"
   ]
  },
  {
   "cell_type": "code",
   "execution_count": 8,
   "id": "b9d66117-b86b-41cf-ac2f-0c70955462c0",
   "metadata": {},
   "outputs": [
    {
     "name": "stdout",
     "output_type": "stream",
     "text": [
      "Cleaned dataset with 'pm25' data saved to pm25_cleaned_dataset.csv\n"
     ]
    }
   ],
   "source": [
    "# Drop the 'parameter' and 'unit' columns\n",
    "pm25_df = pm25_df.drop(columns=['parameter', 'unit'])\n",
    "\n",
    "# Save the updated DataFrame to a new CSV file\n",
    "pm25_df.to_csv(\"pm25_cleaned_dataset.csv\", index=False)\n",
    "\n",
    "print(f\"Cleaned dataset with 'pm25' data saved to pm25_cleaned_dataset.csv\")\n"
   ]
  },
  {
   "cell_type": "code",
   "execution_count": 9,
   "id": "d56d4bd1-ad7d-48b1-96ff-14b958a5657f",
   "metadata": {},
   "outputs": [
    {
     "data": {
      "text/html": [
       "<div>\n",
       "<style scoped>\n",
       "    .dataframe tbody tr th:only-of-type {\n",
       "        vertical-align: middle;\n",
       "    }\n",
       "\n",
       "    .dataframe tbody tr th {\n",
       "        vertical-align: top;\n",
       "    }\n",
       "\n",
       "    .dataframe thead th {\n",
       "        text-align: right;\n",
       "    }\n",
       "</style>\n",
       "<table border=\"1\" class=\"dataframe\">\n",
       "  <thead>\n",
       "    <tr style=\"text-align: right;\">\n",
       "      <th></th>\n",
       "      <th>utc</th>\n",
       "      <th>value</th>\n",
       "    </tr>\n",
       "  </thead>\n",
       "  <tbody>\n",
       "    <tr>\n",
       "      <th>1</th>\n",
       "      <td>2021-03-12T18:15:00+00:00</td>\n",
       "      <td>69.0</td>\n",
       "    </tr>\n",
       "    <tr>\n",
       "      <th>2</th>\n",
       "      <td>2021-03-12T17:15:00+00:00</td>\n",
       "      <td>69.0</td>\n",
       "    </tr>\n",
       "    <tr>\n",
       "      <th>5</th>\n",
       "      <td>2021-03-12T16:15:00+00:00</td>\n",
       "      <td>60.0</td>\n",
       "    </tr>\n",
       "    <tr>\n",
       "      <th>6</th>\n",
       "      <td>2021-03-12T15:15:00+00:00</td>\n",
       "      <td>58.0</td>\n",
       "    </tr>\n",
       "    <tr>\n",
       "      <th>9</th>\n",
       "      <td>2021-03-12T14:15:00+00:00</td>\n",
       "      <td>58.0</td>\n",
       "    </tr>\n",
       "  </tbody>\n",
       "</table>\n",
       "</div>"
      ],
      "text/plain": [
       "                         utc  value\n",
       "1  2021-03-12T18:15:00+00:00   69.0\n",
       "2  2021-03-12T17:15:00+00:00   69.0\n",
       "5  2021-03-12T16:15:00+00:00   60.0\n",
       "6  2021-03-12T15:15:00+00:00   58.0\n",
       "9  2021-03-12T14:15:00+00:00   58.0"
      ]
     },
     "execution_count": 9,
     "metadata": {},
     "output_type": "execute_result"
    }
   ],
   "source": [
    "pm25_df.head()\n"
   ]
  },
  {
   "cell_type": "code",
   "execution_count": 10,
   "id": "e0cf70bf-92b2-465d-9b5e-00ece480eefd",
   "metadata": {},
   "outputs": [],
   "source": [
    "pm25_df['utc'] = pd.to_datetime(pm25_df['utc'])\n",
    "pm25_df.set_index('utc', inplace=True)\n"
   ]
  },
  {
   "cell_type": "code",
   "execution_count": 11,
   "id": "920713ee-e453-42be-8347-13366e8f7dff",
   "metadata": {},
   "outputs": [
    {
     "data": {
      "text/html": [
       "<div>\n",
       "<style scoped>\n",
       "    .dataframe tbody tr th:only-of-type {\n",
       "        vertical-align: middle;\n",
       "    }\n",
       "\n",
       "    .dataframe tbody tr th {\n",
       "        vertical-align: top;\n",
       "    }\n",
       "\n",
       "    .dataframe thead th {\n",
       "        text-align: right;\n",
       "    }\n",
       "</style>\n",
       "<table border=\"1\" class=\"dataframe\">\n",
       "  <thead>\n",
       "    <tr style=\"text-align: right;\">\n",
       "      <th></th>\n",
       "      <th>value</th>\n",
       "    </tr>\n",
       "    <tr>\n",
       "      <th>utc</th>\n",
       "      <th></th>\n",
       "    </tr>\n",
       "  </thead>\n",
       "  <tbody>\n",
       "    <tr>\n",
       "      <th>2021-03-12 18:15:00+00:00</th>\n",
       "      <td>69.0</td>\n",
       "    </tr>\n",
       "    <tr>\n",
       "      <th>2021-03-12 17:15:00+00:00</th>\n",
       "      <td>69.0</td>\n",
       "    </tr>\n",
       "    <tr>\n",
       "      <th>2021-03-12 16:15:00+00:00</th>\n",
       "      <td>60.0</td>\n",
       "    </tr>\n",
       "    <tr>\n",
       "      <th>2021-03-12 15:15:00+00:00</th>\n",
       "      <td>58.0</td>\n",
       "    </tr>\n",
       "    <tr>\n",
       "      <th>2021-03-12 14:15:00+00:00</th>\n",
       "      <td>58.0</td>\n",
       "    </tr>\n",
       "  </tbody>\n",
       "</table>\n",
       "</div>"
      ],
      "text/plain": [
       "                           value\n",
       "utc                             \n",
       "2021-03-12 18:15:00+00:00   69.0\n",
       "2021-03-12 17:15:00+00:00   69.0\n",
       "2021-03-12 16:15:00+00:00   60.0\n",
       "2021-03-12 15:15:00+00:00   58.0\n",
       "2021-03-12 14:15:00+00:00   58.0"
      ]
     },
     "execution_count": 11,
     "metadata": {},
     "output_type": "execute_result"
    }
   ],
   "source": [
    "pm25_df.head()\n"
   ]
  },
  {
   "cell_type": "code",
   "execution_count": 12,
   "id": "ee47c23a-3de8-47f5-bad7-b8c76f603b11",
   "metadata": {
    "scrolled": true
   },
   "outputs": [],
   "source": [
    "y = pm25_df['value'].resample('h').mean().ffill()\n"
   ]
  },
  {
   "cell_type": "code",
   "execution_count": 13,
   "id": "1fa16cb4-5373-452d-9c4f-09a8d5ed528a",
   "metadata": {},
   "outputs": [
    {
     "data": {
      "text/plain": [
       "utc\n",
       "2017-03-02 23:00:00+00:00    106.1\n",
       "2017-03-03 00:00:00+00:00    134.5\n",
       "2017-03-03 01:00:00+00:00    134.5\n",
       "2017-03-03 02:00:00+00:00    134.5\n",
       "2017-03-03 03:00:00+00:00    134.5\n",
       "Freq: h, Name: value, dtype: float64"
      ]
     },
     "execution_count": 13,
     "metadata": {},
     "output_type": "execute_result"
    }
   ],
   "source": [
    "y.head()"
   ]
  },
  {
   "cell_type": "code",
   "execution_count": 14,
   "id": "0011d863-918e-4896-9e4a-899644e26a25",
   "metadata": {},
   "outputs": [
    {
     "data": {
      "text/plain": [
       "(35300,)"
      ]
     },
     "execution_count": 14,
     "metadata": {},
     "output_type": "execute_result"
    }
   ],
   "source": [
    "y.shape"
   ]
  },
  {
   "cell_type": "code",
   "execution_count": 15,
   "id": "6b0505c9-f3a9-405a-86e2-abc3186746a0",
   "metadata": {},
   "outputs": [
    {
     "data": {
      "image/png": "[encoded data removed]",
      "text/plain": [
       "<Figure size 1500x600 with 1 Axes>"
      ]
     },
     "metadata": {},
     "output_type": "display_data"
    }
   ],
   "source": [
    "fig, ax= plt.subplots(figsize=(15,6))\n",
    "plot_acf(y, ax=ax);\n",
    "plt.xlabel(\"Lag [hours]\")\n",
    "plt.ylabel(\"Correlation Coefficient\");"
   ]
  },
  {
   "cell_type": "code",
   "execution_count": 16,
   "id": "a47f798b-f7ba-4a79-b0f7-f989205f8500",
   "metadata": {},
   "outputs": [
    {
     "data": {
      "image/png": "[encoded data removed]",
      "text/plain": [
       "<Figure size 640x480 with 1 Axes>"
      ]
     },
     "metadata": {},
     "output_type": "display_data"
    }
   ],
   "source": [
    "# Plot the boxplot for the 'value' column\n",
    "pm25_df['value'].plot(kind='box')\n",
    "\n",
    "plt.title('Boxplot for PM2.5 Values')\n",
    "plt.show()\n"
   ]
  },
  {
   "cell_type": "code",
   "execution_count": 17,
   "id": "26ffe4e6-a064-4508-b24f-b9d47919fe47",
   "metadata": {},
   "outputs": [
    {
     "data": {
      "image/png": "[encoded data removed]",
      "text/plain": [
       "<Figure size 1500x600 with 1 Axes>"
      ]
     },
     "metadata": {},
     "output_type": "display_data"
    }
   ],
   "source": [
    "fig, ax= plt.subplots(figsize=(15,6))\n",
    "plot_pacf(y, ax=ax);\n",
    "plt.xlabel(\"Lag [hours]\")\n",
    "plt.ylabel(\"Correlation Coefficient\");"
   ]
  },
  {
   "cell_type": "code",
   "execution_count": 18,
   "id": "e0be8a84-0f41-43ca-b60b-eef14c915ffb",
   "metadata": {},
   "outputs": [
    {
     "name": "stdout",
     "output_type": "stream",
     "text": [
      "Train size: 24817\n",
      "Validation size: 8808\n",
      "Test size: 1723\n"
     ]
    }
   ],
   "source": [
    "import pandas as pd\n",
    "\n",
    "# Define the split dates\n",
    "train_end = '2019-12-31'\n",
    "val_end = '2020-12-31'\n",
    "\n",
    "\n",
    "# Split the data\n",
    "y_train = y[:train_end]  # Data up to the end of 2019\n",
    "y_val = y[train_end:val_end]  # Data from 2020\n",
    "y_test = y[val_end:]  # Data from 2021 onward\n",
    "\n",
    "# Print the sizes to confirm\n",
    "print(f\"Train size: {len(y_train)}\")\n",
    "print(f\"Validation size: {len(y_val)}\")\n",
    "print(f\"Test size: {len(y_test)}\")\n",
    "\n"
   ]
  },
  {
   "cell_type": "code",
   "execution_count": 19,
   "id": "8af0e855-f0f9-4e05-aa40-b49a3b7465d7",
   "metadata": {},
   "outputs": [
    {
     "name": "stdout",
     "output_type": "stream",
     "text": [
      "Train size: 24817\n",
      "Validation size: 8808\n",
      "Test size: 1723\n"
     ]
    }
   ],
   "source": [
    "import pandas as pd\n",
    "\n",
    "# Define the split dates\n",
    "train_end = '2019-12-31'\n",
    "val_end = '2020-12-31'\n",
    "\n",
    "\n",
    "# Split the data\n",
    "y_train = y[:train_end]  # Data up to the end of 2019\n",
    "y_val = y[train_end:val_end]  # Data from 2020\n",
    "y_test = y[val_end:]  # Data from 2021 onward\n",
    "\n",
    "# Print the sizes to confirm\n",
    "print(f\"Train size: {len(y_train)}\")\n",
    "print(f\"Validation size: {len(y_val)}\")\n",
    "print(f\"Test size: {len(y_test)}\")\n"
   ]
  },
  {
   "cell_type": "code",
   "execution_count": 20,
   "id": "390eba03-2a34-4bbd-98fd-a8d0cef4a00d",
   "metadata": {},
   "outputs": [
    {
     "name": "stdout",
     "output_type": "stream",
     "text": [
      "Mean Baseline MAE: 32.58193924486369\n",
      "Persistence Baseline MAE: 101.54768392370572\n"
     ]
    }
   ],
   "source": [
    "# Calculate the mean of the training data\n",
    "baseline_mean = y_train.mean()\n",
    "\n",
    "# Create a baseline model where all predictions are the mean\n",
    "mean_predictions = [baseline_mean] * len(y_val)\n",
    "\n",
    "# Evaluate using MAE on the validation set\n",
    "mean_baseline_mae = mean_absolute_error(y_val, mean_predictions)\n",
    "print(f\"Mean Baseline MAE: {mean_baseline_mae}\")\n",
    "\n",
    "# Use the last value of the training set as the baseline prediction for validation\n",
    "persistence_predictions = y_train.iloc[-1]  # Last observed value in training\n",
    "\n",
    "# Repeat the last value for the length of the validation set\n",
    "persistence_baseline = [persistence_predictions] * len(y_val)\n",
    "\n",
    "# Evaluate using MAE on the validation set\n",
    "persistence_baseline_mae = mean_absolute_error(y_val, persistence_baseline)\n",
    "print(f\"Persistence Baseline MAE: {persistence_baseline_mae}\")"
   ]
  },
  {
   "cell_type": "code",
   "execution_count": 21,
   "id": "3b1ecbd8-9b91-4c0f-b880-a26de017d2e5",
   "metadata": {},
   "outputs": [],
   "source": [
    "\n",
    "p_params= range(0, 25, 8)\n",
    "q_params= range(0, 3, 1)\n"
   ]
  },
  {
   "cell_type": "code",
   "execution_count": null,
   "id": "2c037611-1d47-4c8a-89a6-0c50a7de09ba",
   "metadata": {},
   "outputs": [
    {
     "name": "stdout",
     "output_type": "stream",
     "text": [
      "Trained ARIMA model (0, 0, 0) in 2.23 seconds.\n",
      "30.095038323660525\n",
      "Trained ARIMA model (0, 0, 1) in 2.54 seconds.\n",
      "18.609261577807786\n",
      "Trained ARIMA model (0, 0, 2) in 7.02 seconds.\n",
      "14.275657050317207\n",
      "Trained ARIMA model (8, 0, 0) in 10.89 seconds.\n",
      "7.597354120696937\n"
     ]
    },
    {
     "name": "stderr",
     "output_type": "stream",
     "text": [
      "/Users/anamgiri/miniforge3/envs/tf_env/lib/python3.9/site-packages/statsmodels/tsa/statespace/sarimax.py:966: UserWarning: Non-stationary starting autoregressive parameters found. Using zeros as starting parameters.\n",
      "  warn('Non-stationary starting autoregressive parameters'\n",
      "/Users/anamgiri/miniforge3/envs/tf_env/lib/python3.9/site-packages/statsmodels/tsa/statespace/sarimax.py:978: UserWarning: Non-invertible starting MA parameters found. Using zeros as starting parameters.\n",
      "  warn('Non-invertible starting MA parameters found.'\n"
     ]
    }
   ],
   "source": [
    "from statsmodels.tsa.arima.model import ARIMA\n",
    "\n",
    "import time\n",
    "#Create empty dictionary for MAE values\n",
    "mae_grid={}\n",
    "for p in p_params:\n",
    "    #Create new key in dict with empty list\n",
    "    mae_grid[p]=[]\n",
    "    #Set hyperparameters for model\n",
    "    for q in q_params:\n",
    "        order = (p, 0, q)\n",
    "        start_time=time.time()\n",
    "        model= ARIMA(y_train, order=order).fit()\n",
    "        elapsed_time=round(time.time() - start_time, 2)\n",
    "        print(f\"Trained ARIMA model {order} in {elapsed_time} seconds.\")\n",
    "        y_pred= model.predict()\n",
    "        mae= mean_absolute_error(y_train, y_pred)\n",
    "        print(mae)\n",
    "        #Adding MAE to dictionary\n",
    "        mae_grid[p].append(mae)\n",
    "\n"
   ]
  },
  {
   "cell_type": "code",
   "execution_count": null,
   "id": "ea85e4f5-9af3-405e-8d57-9a51fe46ce43",
   "metadata": {},
   "outputs": [],
   "source": [
    "mae_grid"
   ]
  },
  {
   "cell_type": "code",
   "execution_count": null,
   "id": "63d78dd3-2a41-49a0-84ba-4f74196f55b1",
   "metadata": {},
   "outputs": [],
   "source": [
    "mae_df= pd.DataFrame(mae_grid)\n",
    "mae_df.round(4)"
   ]
  },
  {
   "cell_type": "code",
   "execution_count": null,
   "id": "e68e79d0-4e35-4cbc-bbfd-6f78023fa316",
   "metadata": {},
   "outputs": [],
   "source": [
    "sns.heatmap(mae_df, cmap=\"Blues\")\n",
    "plt.xlabel(\"p values\")\n",
    "plt.ylabel(\"q values\")\n",
    "plt.title(\"SARIMA Grid Search(Criterion: MAE)\");"
   ]
  },
  {
   "cell_type": "code",
   "execution_count": null,
   "id": "8f432cbf-20ba-4b9a-adc0-287073206963",
   "metadata": {},
   "outputs": [],
   "source": [
    "fig, ax= plt.subplots(figsize=(15, 12))\n",
    "model.plot_diagnostics(fig=fig)"
   ]
  },
  {
   "cell_type": "code",
   "execution_count": null,
   "id": "07cb7058-82da-45a6-80ef-e62439871e9d",
   "metadata": {},
   "outputs": [],
   "source": [
    "import pandas as pd\n",
    "from statsmodels.tsa.arima.model import ARIMA\n",
    "\n",
    "# Assuming df is your dataframe and y_train, y_test are defined\n",
    "\n",
    "y_pred_wfv = pd.DataFrame()\n",
    "\n",
    "history = y_train.copy()  # Starting history for the model\n",
    "predictions = []\n",
    "\n",
    "# Set frequency on your index to avoid warnings\n",
    "y_train = y_train.asfreq('D')  # Adjust 'D' to the frequency you need (e.g., daily)\n",
    "y_test = y_test.asfreq('D')  # Make sure test set also has a frequency\n",
    "\n",
    "for i in range(len(y_test)):\n",
    "    model = ARIMA(history, order=(24, 0, 1)).fit()  # Fit ARIMA model\n",
    "    next_predict = model.forecast(steps=1)  # Forecast next value\n",
    "    \n",
    "    predictions.append(next_predict[0])  # Collect the scalar value\n",
    "    \n",
    "    # Update history with the actual observed value from the test set\n",
    "    history = pd.concat([history, pd.Series([y_test.iloc[i]], index=[y_test.index[i]])])\n",
    "\n",
    "# Convert predictions list into a pandas Series\n",
    "y_pred_wfv = pd.Series(predictions, index=y_test.index)\n",
    "\n",
    "# Print or visualize the predictions\n",
    "print(y_pred_wfv.head())\n",
    "\n"
   ]
  },
  {
   "cell_type": "code",
   "execution_count": null,
   "id": "9b9e08e6-897c-4cc4-b5f9-636545b2aba9",
   "metadata": {},
   "outputs": [],
   "source": [
    "test_mae= mean_absolute_error(y_test, y_pred_wfv)\n",
    "test_mae"
   ]
  },
  {
   "cell_type": "code",
   "execution_count": null,
   "id": "a61aa12a-d5e1-43c0-9918-2bf7d8b23f1e",
   "metadata": {},
   "outputs": [],
   "source": []
  }
 ],
 "metadata": {
  "kernelspec": {
   "display_name": "Python (tf_env)",
   "language": "python",
   "name": "tf_env"
  },
  "language_info": {
   "codemirror_mode": {
    "name": "ipython",
    "version": 3
   },
   "file_extension": ".py",
   "mimetype": "text/x-python",
   "name": "python",
   "nbconvert_exporter": "python",
   "pygments_lexer": "ipython3",
   "version": "3.9.19"
  }
 },
 "nbformat": 4,
 "nbformat_minor": 5
}
